{
 "cells": [
  {
   "cell_type": "code",
   "execution_count": 6,
   "id": "adb6eb68",
   "metadata": {
    "id": "adb6eb68"
   },
   "outputs": [],
   "source": [
    "import pandas as pd\n",
    "import numpy as np\n",
    "import warnings\n",
    "warnings.filterwarnings('ignore')\n",
    "from datetime import datetime\n",
    "from uszipcode import SearchEngine, SimpleZipcode\n",
    "from sklearn.model_selection import train_test_split\n",
    "from sklearn.ensemble import RandomForestClassifier\n",
    "from sklearn.ensemble import RandomForestRegressor\n",
    "from sklearn.ensemble import GradientBoostingRegressor\n",
    "from sklearn.linear_model import LinearRegression\n",
    "from sklearn.linear_model import LogisticRegression\n",
    "from sklearn.linear_model import Lasso\n",
    "from sklearn.feature_selection import RFE\n",
    "from sklearn.tree import DecisionTreeRegressor\n",
    "from sklearn.metrics import mean_squared_error, r2_score\n",
    "from lightgbm import LGBMRegressor\n",
    "from matplotlib import pyplot as plt\n",
    "import seaborn as sns\n",
    "import xgboost as xgb\n",
    "from xgboost import XGBRegressor"
   ]
  },
  {
   "cell_type": "markdown",
   "id": "41028c89",
   "metadata": {
    "id": "41028c89"
   },
   "source": [
    "# Read the dataset "
   ]
  },
  {
   "cell_type": "code",
   "execution_count": 7,
   "id": "9b7fb3f8",
   "metadata": {
    "id": "9b7fb3f8"
   },
   "outputs": [],
   "source": [
    "df=pd.read_csv('kc_house_data.csv')\n",
    "df = df.drop(df[df['id'] == 1225069038].index)\n"
   ]
  },
  {
   "cell_type": "markdown",
   "id": "71714dbd",
   "metadata": {
    "id": "71714dbd"
   },
   "source": [
    "# change the date format"
   ]
  },
  {
   "cell_type": "code",
   "execution_count": 8,
   "id": "2c9815b0",
   "metadata": {
    "id": "2c9815b0"
   },
   "outputs": [],
   "source": [
    "df['date'] = pd.to_datetime(df['date'], dayfirst=True)\n",
    "df['year']= df['date'].dt.year\n",
    "df['month']= df['date'].dt.month\n",
    "df['day']= df['date'].dt.day\n",
    "df['Date'] = df[['day', 'month', 'year']].apply(lambda x: '/'.join(x.astype(str)), axis=1)"
   ]
  },
  {
   "cell_type": "markdown",
   "id": "efe0b371",
   "metadata": {
    "id": "efe0b371"
   },
   "source": [
    "# Drop houses with zero bedrooms or bathrooms"
   ]
  },
  {
   "cell_type": "code",
   "execution_count": 9,
   "id": "d9085ca8",
   "metadata": {
    "id": "d9085ca8"
   },
   "outputs": [],
   "source": [
    "df=df.drop(df[df['bathrooms']==0].index, axis=0)\n",
    "df=df.drop(df[df['bedrooms']==0].index, axis=0)\n"
   ]
  },
  {
   "cell_type": "markdown",
   "id": "d450d364",
   "metadata": {
    "id": "d450d364"
   },
   "source": [
    "# Dropping duplicates "
   ]
  },
  {
   "cell_type": "code",
   "execution_count": 10,
   "id": "20de600d",
   "metadata": {
    "id": "20de600d"
   },
   "outputs": [],
   "source": [
    "df=df.drop_duplicates(subset=[\"id\",\"price\"])\n"
   ]
  },
  {
   "cell_type": "markdown",
   "id": "d51e08cf",
   "metadata": {
    "id": "d51e08cf"
   },
   "source": [
    "# Rounding number of bathrooms"
   ]
  },
  {
   "cell_type": "code",
   "execution_count": 11,
   "id": "916bd1be",
   "metadata": {
    "id": "916bd1be"
   },
   "outputs": [],
   "source": [
    "def round_bathrooms(df):\n",
    "     # Round the 'bathrooms' column and convert to integers\n",
    "    df['bathrooms'] = df['bathrooms'].round().astype(int)\n",
    "    return df"
   ]
  },
  {
   "cell_type": "code",
   "execution_count": 12,
   "id": "5ffcc404",
   "metadata": {
    "id": "5ffcc404"
   },
   "outputs": [],
   "source": [
    "df = round_bathrooms(df)\n"
   ]
  },
  {
   "cell_type": "markdown",
   "id": "f2f56bb4",
   "metadata": {
    "id": "f2f56bb4"
   },
   "source": [
    "#  Changing the zipcode for city name"
   ]
  },
  {
   "cell_type": "code",
   "execution_count": 13,
   "id": "19ee0ac0",
   "metadata": {
    "colab": {
     "base_uri": "https://localhost:8080/"
    },
    "id": "19ee0ac0",
    "outputId": "70d63bde-6fe2-49c9-8148-06b6a051c1b6"
   },
   "outputs": [],
   "source": [
    "search = SearchEngine()\n",
    "def zco(x):\n",
    "    city = search.by_zipcode(x).major_city\n",
    "    return city if city else 'None'"
   ]
  },
  {
   "cell_type": "code",
   "execution_count": 14,
   "id": "665be3d3",
   "metadata": {
    "id": "665be3d3"
   },
   "outputs": [],
   "source": [
    "df['city'] = df['zipcode'].apply(zco)"
   ]
  },
  {
   "cell_type": "markdown",
   "id": "cf37726c",
   "metadata": {
    "id": "cf37726c"
   },
   "source": [
    " # creating a new column named house age from yr_built feature"
   ]
  },
  {
   "cell_type": "code",
   "execution_count": 15,
   "id": "f058e97f",
   "metadata": {
    "id": "f058e97f"
   },
   "outputs": [],
   "source": [
    "df['House_Age']=df['year']-df['yr_built']"
   ]
  },
  {
   "cell_type": "markdown",
   "id": "1d919d9b",
   "metadata": {
    "id": "1d919d9b"
   },
   "source": [
    "#  Adding new feature\n",
    "\n",
    "\n"
   ]
  },
  {
   "cell_type": "code",
   "execution_count": 16,
   "id": "c1b13f91",
   "metadata": {
    "id": "c1b13f91"
   },
   "outputs": [],
   "source": [
    "df['living_to_lot_ratio']=df['sqft_living']/df['sqft_lot']"
   ]
  },
  {
   "cell_type": "markdown",
   "id": "eb33574f",
   "metadata": {
    "id": "eb33574f"
   },
   "source": [
    "# Dropping non-relevant columns"
   ]
  },
  {
   "cell_type": "code",
   "execution_count": 17,
   "id": "c37bfcfc",
   "metadata": {
    "id": "c37bfcfc"
   },
   "outputs": [],
   "source": [
    "df=df.drop(columns=['sqft_living15', 'sqft_lot15','zipcode','date','day','month','year','yr_built'])"
   ]
  },
  {
   "cell_type": "markdown",
   "id": "6e6f678a",
   "metadata": {
    "id": "6e6f678a"
   },
   "source": [
    "#  removing price outliers"
   ]
  },
  {
   "cell_type": "code",
   "execution_count": 18,
   "id": "8ec578cf",
   "metadata": {
    "id": "8ec578cf"
   },
   "outputs": [],
   "source": [
    "#using upper limit and lower limit to remove price outliers\n",
    "\n",
    "def iqr_method(df):\n",
    "    perc_75 = np.percentile(df, 75)\n",
    "    perc_25 = np.percentile(df, 25)\n",
    "    iqr_range = perc_75 - perc_25\n",
    "    iqr_upper = perc_75 + 1.5 * iqr_range\n",
    "    iqr_lower = perc_25 - 1.5 * iqr_range\n",
    "    return(iqr_lower,iqr_upper)"
   ]
  },
  {
   "cell_type": "code",
   "execution_count": 19,
   "id": "50d08d3b",
   "metadata": {
    "colab": {
     "base_uri": "https://localhost:8080/"
    },
    "id": "50d08d3b",
    "outputId": "825439d4-2359-4f77-8c26-48cae7d9c10b"
   },
   "outputs": [
    {
     "name": "stdout",
     "output_type": "stream",
     "text": [
      "upper limit for price   =  1129500.0\n",
      "lower limit for price   =  -162500.0\n"
     ]
    }
   ],
   "source": [
    "lower,upper=iqr_method(df['price'])\n",
    "print('upper limit for price   = ', upper )\n",
    "print('lower limit for price   = ', lower)\n",
    "df=df[(df['price']>lower)&(df['price']<upper)]"
   ]
  },
  {
   "cell_type": "markdown",
   "id": "8de60172",
   "metadata": {
    "id": "8de60172"
   },
   "source": [
    "# Removing outliers for bedrooms , bathrooms and sqft_living"
   ]
  },
  {
   "cell_type": "code",
   "execution_count": 20,
   "id": "d8a99d26",
   "metadata": {
    "id": "d8a99d26"
   },
   "outputs": [],
   "source": [
    "#using z-score to remove the outliers\n",
    "\n",
    "def remove_outliers(df, threshold=3):\n",
    "    cols = ['bedrooms', 'bathrooms', 'sqft_living']\n",
    "    df_clean = df.copy()  \n",
    "            # initialize a new dataframe to avoid modifying the original\n",
    "    for col in cols:\n",
    "        zscore = (df_clean[col] - df_clean[col].mean()) / df_clean[col].std()\n",
    "        df_clean = df_clean[abs(zscore) <= threshold]\n",
    "    return df_clean"
   ]
  },
  {
   "cell_type": "code",
   "execution_count": 21,
   "id": "e4ee832b",
   "metadata": {
    "id": "e4ee832b"
   },
   "outputs": [],
   "source": [
    "df=remove_outliers(df)"
   ]
  },
  {
   "cell_type": "code",
   "execution_count": 22,
   "id": "24f4c229",
   "metadata": {
    "id": "24f4c229"
   },
   "outputs": [],
   "source": [
    "df.to_csv('house_price_Group1.csv')"
   ]
  },
  {
   "cell_type": "code",
   "execution_count": 23,
   "id": "ec117a96",
   "metadata": {},
   "outputs": [
    {
     "data": {
      "text/html": [
       "<div>\n",
       "<style scoped>\n",
       "    .dataframe tbody tr th:only-of-type {\n",
       "        vertical-align: middle;\n",
       "    }\n",
       "\n",
       "    .dataframe tbody tr th {\n",
       "        vertical-align: top;\n",
       "    }\n",
       "\n",
       "    .dataframe thead th {\n",
       "        text-align: right;\n",
       "    }\n",
       "</style>\n",
       "<table border=\"1\" class=\"dataframe\">\n",
       "  <thead>\n",
       "    <tr style=\"text-align: right;\">\n",
       "      <th></th>\n",
       "      <th>id</th>\n",
       "      <th>price</th>\n",
       "      <th>bedrooms</th>\n",
       "      <th>bathrooms</th>\n",
       "      <th>sqft_living</th>\n",
       "      <th>sqft_lot</th>\n",
       "      <th>floors</th>\n",
       "      <th>waterfront</th>\n",
       "      <th>view</th>\n",
       "      <th>condition</th>\n",
       "      <th>grade</th>\n",
       "      <th>sqft_above</th>\n",
       "      <th>sqft_basement</th>\n",
       "      <th>yr_renovated</th>\n",
       "      <th>lat</th>\n",
       "      <th>long</th>\n",
       "      <th>Date</th>\n",
       "      <th>city</th>\n",
       "      <th>House_Age</th>\n",
       "      <th>living_to_lot_ratio</th>\n",
       "    </tr>\n",
       "  </thead>\n",
       "  <tbody>\n",
       "    <tr>\n",
       "      <th>0</th>\n",
       "      <td>7129300520</td>\n",
       "      <td>221900.0</td>\n",
       "      <td>3</td>\n",
       "      <td>1</td>\n",
       "      <td>1180</td>\n",
       "      <td>5650</td>\n",
       "      <td>1.0</td>\n",
       "      <td>0</td>\n",
       "      <td>0</td>\n",
       "      <td>3</td>\n",
       "      <td>7</td>\n",
       "      <td>1180</td>\n",
       "      <td>0</td>\n",
       "      <td>0</td>\n",
       "      <td>47.5112</td>\n",
       "      <td>-122.257</td>\n",
       "      <td>13/10/2014</td>\n",
       "      <td>Seattle</td>\n",
       "      <td>59</td>\n",
       "      <td>0.208850</td>\n",
       "    </tr>\n",
       "    <tr>\n",
       "      <th>1</th>\n",
       "      <td>6414100192</td>\n",
       "      <td>538000.0</td>\n",
       "      <td>3</td>\n",
       "      <td>2</td>\n",
       "      <td>2570</td>\n",
       "      <td>7242</td>\n",
       "      <td>2.0</td>\n",
       "      <td>0</td>\n",
       "      <td>0</td>\n",
       "      <td>3</td>\n",
       "      <td>7</td>\n",
       "      <td>2170</td>\n",
       "      <td>400</td>\n",
       "      <td>1991</td>\n",
       "      <td>47.7210</td>\n",
       "      <td>-122.319</td>\n",
       "      <td>9/12/2014</td>\n",
       "      <td>Seattle</td>\n",
       "      <td>63</td>\n",
       "      <td>0.354874</td>\n",
       "    </tr>\n",
       "    <tr>\n",
       "      <th>2</th>\n",
       "      <td>5631500400</td>\n",
       "      <td>180000.0</td>\n",
       "      <td>2</td>\n",
       "      <td>1</td>\n",
       "      <td>770</td>\n",
       "      <td>10000</td>\n",
       "      <td>1.0</td>\n",
       "      <td>0</td>\n",
       "      <td>0</td>\n",
       "      <td>3</td>\n",
       "      <td>6</td>\n",
       "      <td>770</td>\n",
       "      <td>0</td>\n",
       "      <td>0</td>\n",
       "      <td>47.7379</td>\n",
       "      <td>-122.233</td>\n",
       "      <td>25/2/2015</td>\n",
       "      <td>Kenmore</td>\n",
       "      <td>82</td>\n",
       "      <td>0.077000</td>\n",
       "    </tr>\n",
       "    <tr>\n",
       "      <th>3</th>\n",
       "      <td>2487200875</td>\n",
       "      <td>604000.0</td>\n",
       "      <td>4</td>\n",
       "      <td>3</td>\n",
       "      <td>1960</td>\n",
       "      <td>5000</td>\n",
       "      <td>1.0</td>\n",
       "      <td>0</td>\n",
       "      <td>0</td>\n",
       "      <td>5</td>\n",
       "      <td>7</td>\n",
       "      <td>1050</td>\n",
       "      <td>910</td>\n",
       "      <td>0</td>\n",
       "      <td>47.5208</td>\n",
       "      <td>-122.393</td>\n",
       "      <td>9/12/2014</td>\n",
       "      <td>Seattle</td>\n",
       "      <td>49</td>\n",
       "      <td>0.392000</td>\n",
       "    </tr>\n",
       "    <tr>\n",
       "      <th>4</th>\n",
       "      <td>1954400510</td>\n",
       "      <td>510000.0</td>\n",
       "      <td>3</td>\n",
       "      <td>2</td>\n",
       "      <td>1680</td>\n",
       "      <td>8080</td>\n",
       "      <td>1.0</td>\n",
       "      <td>0</td>\n",
       "      <td>0</td>\n",
       "      <td>3</td>\n",
       "      <td>8</td>\n",
       "      <td>1680</td>\n",
       "      <td>0</td>\n",
       "      <td>0</td>\n",
       "      <td>47.6168</td>\n",
       "      <td>-122.045</td>\n",
       "      <td>18/2/2015</td>\n",
       "      <td>Sammamish</td>\n",
       "      <td>28</td>\n",
       "      <td>0.207921</td>\n",
       "    </tr>\n",
       "    <tr>\n",
       "      <th>...</th>\n",
       "      <td>...</td>\n",
       "      <td>...</td>\n",
       "      <td>...</td>\n",
       "      <td>...</td>\n",
       "      <td>...</td>\n",
       "      <td>...</td>\n",
       "      <td>...</td>\n",
       "      <td>...</td>\n",
       "      <td>...</td>\n",
       "      <td>...</td>\n",
       "      <td>...</td>\n",
       "      <td>...</td>\n",
       "      <td>...</td>\n",
       "      <td>...</td>\n",
       "      <td>...</td>\n",
       "      <td>...</td>\n",
       "      <td>...</td>\n",
       "      <td>...</td>\n",
       "      <td>...</td>\n",
       "      <td>...</td>\n",
       "    </tr>\n",
       "    <tr>\n",
       "      <th>21608</th>\n",
       "      <td>263000018</td>\n",
       "      <td>360000.0</td>\n",
       "      <td>3</td>\n",
       "      <td>2</td>\n",
       "      <td>1530</td>\n",
       "      <td>1131</td>\n",
       "      <td>3.0</td>\n",
       "      <td>0</td>\n",
       "      <td>0</td>\n",
       "      <td>3</td>\n",
       "      <td>8</td>\n",
       "      <td>1530</td>\n",
       "      <td>0</td>\n",
       "      <td>0</td>\n",
       "      <td>47.6993</td>\n",
       "      <td>-122.346</td>\n",
       "      <td>21/5/2014</td>\n",
       "      <td>Seattle</td>\n",
       "      <td>5</td>\n",
       "      <td>1.352785</td>\n",
       "    </tr>\n",
       "    <tr>\n",
       "      <th>21609</th>\n",
       "      <td>6600060120</td>\n",
       "      <td>400000.0</td>\n",
       "      <td>4</td>\n",
       "      <td>2</td>\n",
       "      <td>2310</td>\n",
       "      <td>5813</td>\n",
       "      <td>2.0</td>\n",
       "      <td>0</td>\n",
       "      <td>0</td>\n",
       "      <td>3</td>\n",
       "      <td>8</td>\n",
       "      <td>2310</td>\n",
       "      <td>0</td>\n",
       "      <td>0</td>\n",
       "      <td>47.5107</td>\n",
       "      <td>-122.362</td>\n",
       "      <td>23/2/2015</td>\n",
       "      <td>Seattle</td>\n",
       "      <td>1</td>\n",
       "      <td>0.397385</td>\n",
       "    </tr>\n",
       "    <tr>\n",
       "      <th>21610</th>\n",
       "      <td>1523300141</td>\n",
       "      <td>402101.0</td>\n",
       "      <td>2</td>\n",
       "      <td>1</td>\n",
       "      <td>1020</td>\n",
       "      <td>1350</td>\n",
       "      <td>2.0</td>\n",
       "      <td>0</td>\n",
       "      <td>0</td>\n",
       "      <td>3</td>\n",
       "      <td>7</td>\n",
       "      <td>1020</td>\n",
       "      <td>0</td>\n",
       "      <td>0</td>\n",
       "      <td>47.5944</td>\n",
       "      <td>-122.299</td>\n",
       "      <td>23/6/2014</td>\n",
       "      <td>Seattle</td>\n",
       "      <td>5</td>\n",
       "      <td>0.755556</td>\n",
       "    </tr>\n",
       "    <tr>\n",
       "      <th>21611</th>\n",
       "      <td>291310100</td>\n",
       "      <td>400000.0</td>\n",
       "      <td>3</td>\n",
       "      <td>2</td>\n",
       "      <td>1600</td>\n",
       "      <td>2388</td>\n",
       "      <td>2.0</td>\n",
       "      <td>0</td>\n",
       "      <td>0</td>\n",
       "      <td>3</td>\n",
       "      <td>8</td>\n",
       "      <td>1600</td>\n",
       "      <td>0</td>\n",
       "      <td>0</td>\n",
       "      <td>47.5345</td>\n",
       "      <td>-122.069</td>\n",
       "      <td>16/1/2015</td>\n",
       "      <td>Issaquah</td>\n",
       "      <td>11</td>\n",
       "      <td>0.670017</td>\n",
       "    </tr>\n",
       "    <tr>\n",
       "      <th>21612</th>\n",
       "      <td>1523300157</td>\n",
       "      <td>325000.0</td>\n",
       "      <td>2</td>\n",
       "      <td>1</td>\n",
       "      <td>1020</td>\n",
       "      <td>1076</td>\n",
       "      <td>2.0</td>\n",
       "      <td>0</td>\n",
       "      <td>0</td>\n",
       "      <td>3</td>\n",
       "      <td>7</td>\n",
       "      <td>1020</td>\n",
       "      <td>0</td>\n",
       "      <td>0</td>\n",
       "      <td>47.5941</td>\n",
       "      <td>-122.299</td>\n",
       "      <td>15/10/2014</td>\n",
       "      <td>Seattle</td>\n",
       "      <td>6</td>\n",
       "      <td>0.947955</td>\n",
       "    </tr>\n",
       "  </tbody>\n",
       "</table>\n",
       "<p>20224 rows × 20 columns</p>\n",
       "</div>"
      ],
      "text/plain": [
       "               id     price  bedrooms  bathrooms  sqft_living  sqft_lot  \\\n",
       "0      7129300520  221900.0         3          1         1180      5650   \n",
       "1      6414100192  538000.0         3          2         2570      7242   \n",
       "2      5631500400  180000.0         2          1          770     10000   \n",
       "3      2487200875  604000.0         4          3         1960      5000   \n",
       "4      1954400510  510000.0         3          2         1680      8080   \n",
       "...           ...       ...       ...        ...          ...       ...   \n",
       "21608   263000018  360000.0         3          2         1530      1131   \n",
       "21609  6600060120  400000.0         4          2         2310      5813   \n",
       "21610  1523300141  402101.0         2          1         1020      1350   \n",
       "21611   291310100  400000.0         3          2         1600      2388   \n",
       "21612  1523300157  325000.0         2          1         1020      1076   \n",
       "\n",
       "       floors  waterfront  view  condition  grade  sqft_above  sqft_basement  \\\n",
       "0         1.0           0     0          3      7        1180              0   \n",
       "1         2.0           0     0          3      7        2170            400   \n",
       "2         1.0           0     0          3      6         770              0   \n",
       "3         1.0           0     0          5      7        1050            910   \n",
       "4         1.0           0     0          3      8        1680              0   \n",
       "...       ...         ...   ...        ...    ...         ...            ...   \n",
       "21608     3.0           0     0          3      8        1530              0   \n",
       "21609     2.0           0     0          3      8        2310              0   \n",
       "21610     2.0           0     0          3      7        1020              0   \n",
       "21611     2.0           0     0          3      8        1600              0   \n",
       "21612     2.0           0     0          3      7        1020              0   \n",
       "\n",
       "       yr_renovated      lat     long        Date       city  House_Age  \\\n",
       "0                 0  47.5112 -122.257  13/10/2014    Seattle         59   \n",
       "1              1991  47.7210 -122.319   9/12/2014    Seattle         63   \n",
       "2                 0  47.7379 -122.233   25/2/2015    Kenmore         82   \n",
       "3                 0  47.5208 -122.393   9/12/2014    Seattle         49   \n",
       "4                 0  47.6168 -122.045   18/2/2015  Sammamish         28   \n",
       "...             ...      ...      ...         ...        ...        ...   \n",
       "21608             0  47.6993 -122.346   21/5/2014    Seattle          5   \n",
       "21609             0  47.5107 -122.362   23/2/2015    Seattle          1   \n",
       "21610             0  47.5944 -122.299   23/6/2014    Seattle          5   \n",
       "21611             0  47.5345 -122.069   16/1/2015   Issaquah         11   \n",
       "21612             0  47.5941 -122.299  15/10/2014    Seattle          6   \n",
       "\n",
       "       living_to_lot_ratio  \n",
       "0                 0.208850  \n",
       "1                 0.354874  \n",
       "2                 0.077000  \n",
       "3                 0.392000  \n",
       "4                 0.207921  \n",
       "...                    ...  \n",
       "21608             1.352785  \n",
       "21609             0.397385  \n",
       "21610             0.755556  \n",
       "21611             0.670017  \n",
       "21612             0.947955  \n",
       "\n",
       "[20224 rows x 20 columns]"
      ]
     },
     "execution_count": 23,
     "metadata": {},
     "output_type": "execute_result"
    }
   ],
   "source": [
    "df"
   ]
  },
  {
   "cell_type": "markdown",
   "id": "ba21c92c",
   "metadata": {
    "id": "ba21c92c"
   },
   "source": [
    "# Splitting the dataset for training and testing data"
   ]
  },
  {
   "cell_type": "code",
   "execution_count": 24,
   "id": "4fce8fd8",
   "metadata": {
    "id": "4fce8fd8"
   },
   "outputs": [],
   "source": [
    "X = df.drop(['price','Date','city','id'], axis=1)\n",
    "y = df['price']\n",
    "X_train, X_test, y_train, y_test = train_test_split(X, y, test_size=0.3, random_state=42)"
   ]
  },
  {
   "cell_type": "markdown",
   "id": "28dadbb4",
   "metadata": {
    "id": "28dadbb4"
   },
   "source": [
    "# Feature selection:"
   ]
  },
  {
   "cell_type": "code",
   "execution_count": 25,
   "id": "ccf49cce",
   "metadata": {
    "colab": {
     "base_uri": "https://localhost:8080/"
    },
    "id": "ccf49cce",
    "outputId": "46fc419a-aabc-4548-8b85-0cc6c7541c5f"
   },
   "outputs": [
    {
     "name": "stdout",
     "output_type": "stream",
     "text": [
      "The best features based on correlations:  ['bedrooms', 'bathrooms', 'sqft_living', 'floors', 'view', 'grade', 'sqft_above', 'sqft_basement', 'lat', 'living_to_lot_ratio']\n",
      "The number of features was selected based on correlations is :  10\n"
     ]
    }
   ],
   "source": [
    "# Selection of best features based on correlations :\n",
    "corr = df.corr()\n",
    "corr_target = abs(corr[\"price\"])\n",
    "\n",
    "# select features with correlation coefficient > 0.1\n",
    "best_features_corr= corr_target[corr_target > 0.1].index.tolist()\n",
    "print('The best features based on correlations: ' , best_features_corr[1:] )\n",
    "print('The number of features was selected based on correlations is : ' ,len( best_features_corr[1:]) )"
   ]
  },
  {
   "cell_type": "code",
   "execution_count": 26,
   "id": "579ff12d",
   "metadata": {
    "colab": {
     "base_uri": "https://localhost:8080/"
    },
    "id": "579ff12d",
    "outputId": "30691b32-d4a7-4a73-8299-b4b0d7dc8268"
   },
   "outputs": [
    {
     "name": "stdout",
     "output_type": "stream",
     "text": [
      "The best feature based on RFR model : ['sqft_living', 'sqft_lot', 'view', 'grade', 'sqft_above', 'lat', 'long', 'House_Age', 'living_to_lot_ratio']\n",
      "The number of features was selected based on RandomForestRegressor is:  9\n"
     ]
    }
   ],
   "source": [
    "# Selection of best features Based on RandomForestRegressor :\n",
    "rfr = RandomForestRegressor(n_estimators=100, random_state=42)\n",
    "rfr.fit(X_train, y_train)\n",
    "\n",
    "# select the best features\n",
    "best_features_rfr = X_train.columns[rfr.feature_importances_ > 0.01].tolist()\n",
    "print('The best feature based on RFR model :',best_features_rfr)\n",
    "print('The number of features was selected based on RandomForestRegressor is: ' ,len(best_features_rfr ) )"
   ]
  },
  {
   "cell_type": "code",
   "execution_count": 27,
   "id": "af30276f",
   "metadata": {
    "id": "af30276f"
   },
   "outputs": [],
   "source": [
    "#now we want to build a model to compare these two feature lists:\n",
    "#LGBM Regressor:\n",
    "def lgbm(X_train,X_test,y_train,y_test):\n",
    "    lgbm = LGBMRegressor()\n",
    "    lgbm_model = lgbm.fit(X_train, y_train)\n",
    "    y_pred_lgbm = lgbm_model.predict(X_test, num_iteration = lgbm_model.best_iteration_)\n",
    "    r2=r2_score(y_test,y_pred_lgbm)\n",
    "    rmse= mean_squared_error(y_test, y_pred_lgbm, squared = False) \n",
    "    print('R^2:', r2.round(3) )\n",
    "    print('RMSE:',rmse.round(2))\n",
    "\n",
    "    return (r2,rmse)"
   ]
  },
  {
   "cell_type": "code",
   "execution_count": 28,
   "id": "847b1c89",
   "metadata": {
    "colab": {
     "base_uri": "https://localhost:8080/"
    },
    "id": "847b1c89",
    "outputId": "bbf72dc8-41e2-47f2-d9fe-690e96dd9348"
   },
   "outputs": [
    {
     "name": "stdout",
     "output_type": "stream",
     "text": [
      "R^2: 0.875\n",
      "RMSE: 72715.7\n"
     ]
    },
    {
     "data": {
      "text/plain": [
       "(0.8746963619849638, 72715.70171183874)"
      ]
     },
     "execution_count": 28,
     "metadata": {},
     "output_type": "execute_result"
    }
   ],
   "source": [
    "lgbm(X_train,X_test,y_train,y_test)\n",
    "#r2 score from the original dataset to see how it will affected when reduce features"
   ]
  },
  {
   "cell_type": "code",
   "execution_count": 29,
   "id": "67297cee",
   "metadata": {
    "colab": {
     "base_uri": "https://localhost:8080/"
    },
    "id": "67297cee",
    "outputId": "ab514993-76b9-48f5-d425-6aed5c1e9ffa"
   },
   "outputs": [
    {
     "name": "stdout",
     "output_type": "stream",
     "text": [
      "R^2: 0.82\n",
      "RMSE: 87129.0\n"
     ]
    },
    {
     "data": {
      "text/plain": [
       "(0.8200993514575892, 87128.99884111501)"
      ]
     },
     "execution_count": 29,
     "metadata": {},
     "output_type": "execute_result"
    }
   ],
   "source": [
    "#split the data but only using the selected features based on correlations\n",
    "XX=df[['bedrooms', 'bathrooms', 'sqft_living', 'floors', 'view', 'grade', 'sqft_above', 'sqft_basement', 'lat', 'living_to_lot_ratio']]\n",
    "yy=df['price']\n",
    "XX_train, XX_test, yy_train, yy_test = train_test_split(XX, yy, test_size=0.3, random_state=42)\n",
    "lgbm(XX_train, XX_test, yy_train, yy_test)"
   ]
  },
  {
   "cell_type": "code",
   "execution_count": 30,
   "id": "b44003e6",
   "metadata": {
    "colab": {
     "base_uri": "https://localhost:8080/"
    },
    "id": "b44003e6",
    "outputId": "a6ca6a34-4705-4cd5-ba36-0f4da7e4b370"
   },
   "outputs": [
    {
     "name": "stdout",
     "output_type": "stream",
     "text": [
      "R^2: 0.868\n",
      "RMSE: 74610.73\n"
     ]
    },
    {
     "data": {
      "text/plain": [
       "(0.8680802268825689, 74610.73308467474)"
      ]
     },
     "execution_count": 30,
     "metadata": {},
     "output_type": "execute_result"
    }
   ],
   "source": [
    "#split the data but only using the selected features based on RFR\n",
    "XX1=df[['sqft_living', 'sqft_lot', 'view', 'grade', 'sqft_above', 'lat', 'long', 'House_Age', 'living_to_lot_ratio']]\n",
    "yy1=df['price']\n",
    "XX1_train, XX1_test, yy1_train, yy1_test = train_test_split(XX1, yy1, test_size=0.3, random_state=42)\n",
    "lgbm(XX1_train, XX1_test, yy1_train, yy1_test)"
   ]
  },
  {
   "cell_type": "code",
   "execution_count": 31,
   "id": "c8b034b7",
   "metadata": {
    "colab": {
     "base_uri": "https://localhost:8080/"
    },
    "id": "c8b034b7",
    "outputId": "a4917c9f-56fc-4082-bd5d-d4c8fcfe71ff"
   },
   "outputs": [
    {
     "name": "stdout",
     "output_type": "stream",
     "text": [
      "R^2: 0.869\n",
      "RMSE: 74377.72\n"
     ]
    },
    {
     "data": {
      "text/plain": [
       "(0.8689029077240731, 74377.72473848712)"
      ]
     },
     "execution_count": 31,
     "metadata": {},
     "output_type": "execute_result"
    }
   ],
   "source": [
    "# if we try to add more features and compare the score:\n",
    "XX2=df[['sqft_living', 'sqft_lot', 'view', 'grade', 'sqft_above', 'lat', 'long', 'House_Age', 'living_to_lot_ratio','bedrooms', 'bathrooms']]\n",
    "yy2=df['price']\n",
    "XX2_train, XX2_test, yy2_train, yy2_test = train_test_split(XX2, yy2, test_size=0.3, random_state=42)\n",
    "lgbm(XX2_train, XX2_test, yy2_train, yy2_test)"
   ]
  },
  {
   "cell_type": "markdown",
   "id": "31b8ad45",
   "metadata": {},
   "source": [
    "as we can see that the feature set (XX1) and (XX2 after adding some features)from the RFR feature selection model gave us a higher score so we chose it to build our model "
   ]
  },
  {
   "cell_type": "markdown",
   "id": "e6a70803",
   "metadata": {
    "id": "e6a70803"
   },
   "source": [
    "# Models to be tested:"
   ]
  },
  {
   "cell_type": "markdown",
   "id": "c8795a0b",
   "metadata": {
    "id": "c8795a0b"
   },
   "source": [
    "# 1-linear regression:"
   ]
  },
  {
   "cell_type": "code",
   "execution_count": 32,
   "id": "7NRItI1qNLwU",
   "metadata": {
    "id": "7NRItI1qNLwU"
   },
   "outputs": [],
   "source": [
    "# Define a LinearRegression Model without regularisation(using LinearRegression())\n",
    "def linearregression(X_train, X_test, y_train, y_test):\n",
    "    lr = LinearRegression()\n",
    "    lr.fit(X_train, y_train)\n",
    "    y_pred_lr = lr.predict(X_test)\n",
    "    r2 = r2_score(y_test, y_pred_lr)\n",
    "    rmse = mean_squared_error(y_test, y_pred_lr, squared=False)\n",
    "    print('R^2:', r2.round(3))\n",
    "    print('RMSE:', rmse.round(2))\n",
    "    return (r2,rmse)"
   ]
  },
  {
   "cell_type": "code",
   "execution_count": 33,
   "id": "9WDKUVaVNjmX",
   "metadata": {
    "colab": {
     "base_uri": "https://localhost:8080/"
    },
    "id": "9WDKUVaVNjmX",
    "outputId": "2936481a-7c4f-4f5f-e01e-77f3faada519"
   },
   "outputs": [
    {
     "name": "stdout",
     "output_type": "stream",
     "text": [
      "R^2: 0.696\n",
      "RMSE: 113189.45\n"
     ]
    }
   ],
   "source": [
    "r01 , R01=  linearregression(XX2_train, XX2_test, yy2_train, yy2_test)"
   ]
  },
  {
   "cell_type": "markdown",
   "id": "239d6ddd",
   "metadata": {
    "id": "239d6ddd"
   },
   "source": [
    "#  2-LinearRegression Model with L1 regularisation(using Lasso()):"
   ]
  },
  {
   "cell_type": "code",
   "execution_count": 34,
   "id": "ea10eacf",
   "metadata": {
    "id": "ea10eacf"
   },
   "outputs": [],
   "source": [
    "def lasso(X_train, X_test, y_train, y_test):\n",
    "    lasso = Lasso()\n",
    "    lasso.fit(X_train,y_train)\n",
    "    y_pred_lasso=lasso.predict(X_test)\n",
    "    r2=r2_score(y_test, y_pred_lasso)\n",
    "    rmse= mean_squared_error(y_test, y_pred_lasso, squared = False) \n",
    "    print('R^2:', r2.round(3) )\n",
    "    print('RMSE:',rmse.round(2))\n",
    "    \n",
    "    return (r2,rmse)\n"
   ]
  },
  {
   "cell_type": "code",
   "execution_count": 35,
   "id": "077ea222",
   "metadata": {
    "colab": {
     "base_uri": "https://localhost:8080/"
    },
    "id": "077ea222",
    "outputId": "4df3d3a2-8eb6-4ced-dd79-9410475ceff9"
   },
   "outputs": [
    {
     "name": "stdout",
     "output_type": "stream",
     "text": [
      "R^2: 0.696\n",
      "RMSE: 113189.58\n"
     ]
    }
   ],
   "source": [
    "r02,R02= lasso(XX2_train, XX2_test, yy2_train, yy2_test)"
   ]
  },
  {
   "cell_type": "markdown",
   "id": "c65479df",
   "metadata": {
    "id": "c65479df"
   },
   "source": [
    "# 3-DecisionTreeRegressor"
   ]
  },
  {
   "cell_type": "code",
   "execution_count": 36,
   "id": "26a58414",
   "metadata": {
    "id": "26a58414"
   },
   "outputs": [],
   "source": [
    "def dtr(X_train, X_test, y_train, y_test):\n",
    "    dtr = DecisionTreeRegressor()\n",
    "    dtr.fit(X_train,y_train)\n",
    "    y_pred_dtr=dtr.predict(X_test)\n",
    "    r2=r2_score(y_test, y_pred_dtr)\n",
    "    rmse= mean_squared_error(y_test, y_pred_dtr, squared = False) \n",
    "    print('R^2:', r2.round(3) )\n",
    "    print('RMSE:',rmse.round(2))\n",
    "    \n",
    "    return (r2,rmse)"
   ]
  },
  {
   "cell_type": "code",
   "execution_count": 37,
   "id": "d3d5ec86",
   "metadata": {
    "colab": {
     "base_uri": "https://localhost:8080/"
    },
    "id": "d3d5ec86",
    "outputId": "eb5f3657-7ff8-42f0-bbb2-8b1f7a97f2d0"
   },
   "outputs": [
    {
     "name": "stdout",
     "output_type": "stream",
     "text": [
      "R^2: 0.716\n",
      "RMSE: 109424.64\n"
     ]
    }
   ],
   "source": [
    "r03 , R03= dtr(XX2_train, XX2_test, yy2_train, yy2_test)"
   ]
  },
  {
   "cell_type": "markdown",
   "id": "42a7c350",
   "metadata": {
    "id": "42a7c350"
   },
   "source": [
    "# 4-RandomForestRegressor"
   ]
  },
  {
   "cell_type": "code",
   "execution_count": 38,
   "id": "97a8355b",
   "metadata": {
    "id": "97a8355b"
   },
   "outputs": [],
   "source": [
    "def rfr(X_train, X_test, y_train, y_test):\n",
    "    rfr=RandomForestRegressor()\n",
    "    rfr.fit(X_train,y_train)\n",
    "    y_pred_rfr=rfr.predict(X_test)\n",
    "    r2=r2_score(y_test, y_pred_rfr)\n",
    "    rmse= mean_squared_error(y_test, y_pred_rfr, squared = False) \n",
    "    print('R^2:', r2.round(3) )\n",
    "    print('RMSE:',rmse.round(2))\n",
    "    return (r2,rmse)"
   ]
  },
  {
   "cell_type": "code",
   "execution_count": 39,
   "id": "77d0aeb0",
   "metadata": {
    "colab": {
     "base_uri": "https://localhost:8080/"
    },
    "id": "77d0aeb0",
    "outputId": "9def6098-63d4-442b-fc6f-04c83be0a93e"
   },
   "outputs": [
    {
     "name": "stdout",
     "output_type": "stream",
     "text": [
      "R^2: 0.857\n",
      "RMSE: 77694.56\n"
     ]
    }
   ],
   "source": [
    "r04 , R04= rfr(XX2_train, XX2_test, yy2_train, yy2_test)"
   ]
  },
  {
   "cell_type": "markdown",
   "id": "a3b2b7c2",
   "metadata": {
    "id": "a3b2b7c2"
   },
   "source": [
    "# 5-GradientBoostingRegressor"
   ]
  },
  {
   "cell_type": "code",
   "execution_count": 40,
   "id": "ab7b882b",
   "metadata": {
    "id": "ab7b882b"
   },
   "outputs": [],
   "source": [
    "def GBR(X_train, X_test, y_train, y_test):\n",
    "    gbr = GradientBoostingRegressor(max_depth=7,random_state=42)\n",
    "    gbr.fit(X_train, y_train)\n",
    "    y_pred_gbr= gbr.predict(X_test)\n",
    "    r2=r2_score(y_test, y_pred_gbr)\n",
    "    rmse= mean_squared_error(y_test, y_pred_gbr, squared = False) \n",
    "    print('R^2:', r2.round(3) )\n",
    "    print('RMSE:',rmse.round(2))\n",
    "    return (r2,rmse)"
   ]
  },
  {
   "cell_type": "code",
   "execution_count": 41,
   "id": "HHbHKqx_FyT7",
   "metadata": {
    "colab": {
     "base_uri": "https://localhost:8080/"
    },
    "id": "HHbHKqx_FyT7",
    "outputId": "6f1a3c79-12ec-428c-8225-3868dfb09602"
   },
   "outputs": [
    {
     "name": "stdout",
     "output_type": "stream",
     "text": [
      "R^2: 0.866\n",
      "RMSE: 75163.22\n"
     ]
    }
   ],
   "source": [
    "r05 , R05 = GBR(XX2_train, XX2_test, yy2_train, yy2_test)"
   ]
  },
  {
   "cell_type": "markdown",
   "id": "eb7fc190",
   "metadata": {
    "id": "eb7fc190"
   },
   "source": [
    "# 6- XGB Regressor "
   ]
  },
  {
   "cell_type": "code",
   "execution_count": 42,
   "id": "5a6f7baf",
   "metadata": {
    "id": "5a6f7baf"
   },
   "outputs": [],
   "source": [
    "import xgboost as xgb\n",
    "from xgboost import XGBRegressor\n",
    "def xgbb(X_train, X_test, y_train, y_test):\n",
    "    DM_train = xgb.DMatrix(data = X_train, label = y_train)\n",
    "    DM_test = xgb.DMatrix(data = X_test, label = y_test)\n",
    "    xgb_model = XGBRegressor(max_depth=4,random_state=42).fit(X_train, y_train)\n",
    "    y_pred_xgb = xgb_model.predict(X_test)\n",
    "    r2=r2_score(y_test, y_pred_xgb)\n",
    "    rmse= mean_squared_error(y_test, y_pred_xgb, squared = False) \n",
    "    print('R^2:', r2.round(3) )\n",
    "    print('RMSE:',rmse.round(2))\n",
    "    return (r2,rmse)"
   ]
  },
  {
   "cell_type": "code",
   "execution_count": 43,
   "id": "d13fe214",
   "metadata": {
    "colab": {
     "base_uri": "https://localhost:8080/"
    },
    "id": "d13fe214",
    "outputId": "ee1294b9-3d48-494d-ac57-05e62b5b0ebe"
   },
   "outputs": [
    {
     "name": "stdout",
     "output_type": "stream",
     "text": [
      "R^2: 0.859\n",
      "RMSE: 77018.1\n"
     ]
    }
   ],
   "source": [
    "r06 , R06= xgbb(XX2_train, XX2_test, yy2_train, yy2_test)"
   ]
  },
  {
   "cell_type": "markdown",
   "id": "8090b62c",
   "metadata": {
    "id": "8090b62c"
   },
   "source": [
    "# 7-LGBM Regressor "
   ]
  },
  {
   "cell_type": "code",
   "execution_count": 44,
   "id": "55ef3026",
   "metadata": {
    "colab": {
     "base_uri": "https://localhost:8080/"
    },
    "id": "55ef3026",
    "outputId": "b9cf3f54-7674-4894-f101-079e2fa6468b"
   },
   "outputs": [
    {
     "name": "stdout",
     "output_type": "stream",
     "text": [
      "R^2: 0.869\n",
      "RMSE: 74377.72\n"
     ]
    }
   ],
   "source": [
    "#only call the function lgbm() because its already defined before\n",
    "r07 , R07 =lgbm(XX2_train, XX2_test, yy2_train, yy2_test)"
   ]
  },
  {
   "cell_type": "code",
   "execution_count": 50,
   "id": "b01523b0",
   "metadata": {},
   "outputs": [
    {
     "data": {
      "text/html": [
       "<div>\n",
       "<style scoped>\n",
       "    .dataframe tbody tr th:only-of-type {\n",
       "        vertical-align: middle;\n",
       "    }\n",
       "\n",
       "    .dataframe tbody tr th {\n",
       "        vertical-align: top;\n",
       "    }\n",
       "\n",
       "    .dataframe thead th {\n",
       "        text-align: right;\n",
       "    }\n",
       "</style>\n",
       "<table border=\"1\" class=\"dataframe\">\n",
       "  <thead>\n",
       "    <tr style=\"text-align: right;\">\n",
       "      <th></th>\n",
       "      <th>Model</th>\n",
       "      <th>R2 Score</th>\n",
       "      <th>RMSE</th>\n",
       "    </tr>\n",
       "  </thead>\n",
       "  <tbody>\n",
       "    <tr>\n",
       "      <th>1</th>\n",
       "      <td>Linear Regression</td>\n",
       "      <td>0.696</td>\n",
       "      <td>113189.45</td>\n",
       "    </tr>\n",
       "    <tr>\n",
       "      <th>2</th>\n",
       "      <td>Lasso</td>\n",
       "      <td>0.696</td>\n",
       "      <td>113189.58</td>\n",
       "    </tr>\n",
       "    <tr>\n",
       "      <th>3</th>\n",
       "      <td>DecisionTreeRegressor</td>\n",
       "      <td>0.716</td>\n",
       "      <td>109424.64</td>\n",
       "    </tr>\n",
       "    <tr>\n",
       "      <th>4</th>\n",
       "      <td>RandomForestRegressor</td>\n",
       "      <td>0.857</td>\n",
       "      <td>77694.56</td>\n",
       "    </tr>\n",
       "    <tr>\n",
       "      <th>5</th>\n",
       "      <td>GradientBoostingRegressor</td>\n",
       "      <td>0.866</td>\n",
       "      <td>75163.22</td>\n",
       "    </tr>\n",
       "    <tr>\n",
       "      <th>6</th>\n",
       "      <td>XGB Regressor</td>\n",
       "      <td>0.859</td>\n",
       "      <td>77018.10</td>\n",
       "    </tr>\n",
       "    <tr>\n",
       "      <th>7</th>\n",
       "      <td>LGBM Regressor</td>\n",
       "      <td>0.869</td>\n",
       "      <td>74377.72</td>\n",
       "    </tr>\n",
       "  </tbody>\n",
       "</table>\n",
       "</div>"
      ],
      "text/plain": [
       "                       Model  R2 Score       RMSE\n",
       "1          Linear Regression     0.696  113189.45\n",
       "2                      Lasso     0.696  113189.58\n",
       "3      DecisionTreeRegressor     0.716  109424.64\n",
       "4      RandomForestRegressor     0.857   77694.56\n",
       "5  GradientBoostingRegressor     0.866   75163.22\n",
       "6              XGB Regressor     0.859   77018.10\n",
       "7             LGBM Regressor     0.869   74377.72"
      ]
     },
     "execution_count": 50,
     "metadata": {},
     "output_type": "execute_result"
    }
   ],
   "source": [
    "data = {\n",
    "    'Model': ['Linear Regression', 'Lasso', 'DecisionTreeRegressor', 'RandomForestRegressor', 'GradientBoostingRegressor', \n",
    "              'XGB Regressor', 'LGBM Regressor'],\n",
    "    'R2 Score': [r01.round(3), r02.round(3), r03.round(3), r04.round(3),r05.round(3), r06.round(3), r07.round(3)],\n",
    "    'RMSE': [R01.round(2), R02.round(2), R03.round(2), R04.round(2), R05.round(2), R06.round(2), R07.round(2)]\n",
    "}\n",
    "\n",
    "# Create a DataFrame from the data dictionary\n",
    "comp = pd.DataFrame(data)\n",
    "\n",
    "# Set the index to start from 1\n",
    "comp.index = comp.index + 1\n",
    "\n",
    "# Print the DataFrame\n",
    "comp"
   ]
  },
  {
   "cell_type": "markdown",
   "id": "4t6rQPIEMrx_",
   "metadata": {
    "id": "4t6rQPIEMrx_"
   },
   "source": [
    "# we were confusing about which one we are going use between GradientBoostingRegressor and LGBM Regressor , so we used grid search to help us to choose the best one"
   ]
  },
  {
   "cell_type": "markdown",
   "id": "XXZZMOLLNm-u",
   "metadata": {
    "id": "XXZZMOLLNm-u"
   },
   "source": [
    "#Gridsearch with GradientBoostingRegressor\n",
    "\n",
    "\n"
   ]
  },
  {
   "cell_type": "code",
   "execution_count": 51,
   "id": "yz8_j6UeQHkU",
   "metadata": {
    "colab": {
     "base_uri": "https://localhost:8080/"
    },
    "id": "yz8_j6UeQHkU",
    "outputId": "295124b0-3594-4e0f-ef17-1639e575193b"
   },
   "outputs": [
    {
     "name": "stdout",
     "output_type": "stream",
     "text": [
      "Best parameters: {'learning_rate': 0.05, 'max_depth': 7, 'n_estimators': 500}\n",
      "Best score: 0.8610094028470121\n"
     ]
    }
   ],
   "source": [
    "from sklearn.model_selection import GridSearchCV\n",
    "# Define the parameter grid for GridSearchCV\n",
    "param_grid = {\n",
    "    'learning_rate': [0.1, 0.05, 0.01],\n",
    "    'max_depth': [3, 5, 7],\n",
    "    'n_estimators': [100,200,500]\n",
    "}\n",
    "model1 = GradientBoostingRegressor()\n",
    "# Perform GridSearchCV to find the best parameters\n",
    "grid_search = GridSearchCV(estimator=model1, param_grid=param_grid, cv=5)\n",
    "grid_search.fit(XX2_train, yy2_train)\n",
    "print('Best parameters:', grid_search.best_params_)\n",
    "print('Best score:', grid_search.best_score_)"
   ]
  },
  {
   "cell_type": "markdown",
   "id": "VJYij7YAfXMD",
   "metadata": {
    "id": "VJYij7YAfXMD"
   },
   "source": [
    "GradientBoostingRegressor after using best parameters"
   ]
  },
  {
   "cell_type": "code",
   "execution_count": 52,
   "id": "HMmMRgFZfOvz",
   "metadata": {
    "colab": {
     "base_uri": "https://localhost:8080/"
    },
    "id": "HMmMRgFZfOvz",
    "outputId": "b84f118a-37be-4134-86de-1b7e406777c5"
   },
   "outputs": [
    {
     "name": "stdout",
     "output_type": "stream",
     "text": [
      "R^2: 0.869\n",
      "RMSE: 74302.93\n"
     ]
    }
   ],
   "source": [
    "gbr1 = GradientBoostingRegressor(n_estimators=500, learning_rate=0.05, max_depth=7)\n",
    "gbr1.fit(XX2_train, yy2_train)\n",
    "yy2_pred_gbr1= gbr1.predict(XX2_test)\n",
    "r21=r2_score(yy2_test, yy2_pred_gbr1)\n",
    "rmse2= mean_squared_error(yy2_test, yy2_pred_gbr1, squared = False) \n",
    "print('R^2:', r21.round(3) )\n",
    "print('RMSE:',rmse2.round(2))"
   ]
  },
  {
   "cell_type": "markdown",
   "id": "Z2gSqyZZNyxE",
   "metadata": {
    "id": "Z2gSqyZZNyxE"
   },
   "source": [
    "#Gridsearch with LGBM Regressor"
   ]
  },
  {
   "cell_type": "code",
   "execution_count": 53,
   "id": "caZMk1PkZjs1",
   "metadata": {
    "colab": {
     "base_uri": "https://localhost:8080/"
    },
    "id": "caZMk1PkZjs1",
    "outputId": "f1ed10eb-bedc-4444-8124-f6c03aa7f2c2"
   },
   "outputs": [
    {
     "name": "stdout",
     "output_type": "stream",
     "text": [
      "Best parameters:  {'learning_rate': 0.05, 'max_depth': -1, 'n_estimators': 500}\n",
      "Best score:  0.8701295499461953\n"
     ]
    }
   ],
   "source": [
    "param_grid = {\n",
    "    'max_depth': [-1,2, 3, 4,5,6,7,8],\n",
    "    'learning_rate': [0.01, 0.1, 0.05, 1],\n",
    "    'n_estimators': [100, 200, 500]\n",
    "}\n",
    "lgbm = LGBMRegressor()\n",
    "# Initialize GridSearchCV object with the defined parameter grid\n",
    "grid_search = GridSearchCV(estimator=lgbm, param_grid=param_grid, cv=5, n_jobs=-1)\n",
    "grid_search.fit(XX2,yy2)\n",
    "# Print the best parameters and score\n",
    "print('Best parameters: ', grid_search.best_params_)\n",
    "print('Best score: ', grid_search.best_score_)"
   ]
  },
  {
   "cell_type": "markdown",
   "id": "wfYiBIAyN5Wr",
   "metadata": {
    "id": "wfYiBIAyN5Wr"
   },
   "source": [
    "LGBM Regressor after using best parameters\n",
    "\n",
    "\n",
    "\n"
   ]
  },
  {
   "cell_type": "code",
   "execution_count": 54,
   "id": "_iIJ6dQsI1te",
   "metadata": {
    "colab": {
     "base_uri": "https://localhost:8080/"
    },
    "id": "_iIJ6dQsI1te",
    "outputId": "c0c76d12-755c-497b-cb3c-48e100bd15d9"
   },
   "outputs": [
    {
     "name": "stdout",
     "output_type": "stream",
     "text": [
      "R^2: 0.87\n",
      "RMSE: 74040.01\n"
     ]
    }
   ],
   "source": [
    "lgbm1 = LGBMRegressor(n_estimators=500, learning_rate=0.05, max_depth=-1)\n",
    "lgbm_model1 = lgbm1.fit(XX2_train, yy2_train)\n",
    "yy2_pred_lgbm1 = lgbm_model1.predict(XX2_test, num_iteration = lgbm_model1.best_iteration_)\n",
    "r21=r2_score(yy2_test,yy2_pred_lgbm1)\n",
    "rmse1= mean_squared_error(yy2_test, yy2_pred_lgbm1, squared = False) \n",
    "print('R^2:', r21.round(3) )\n",
    "print('RMSE:',rmse1.round(2))"
   ]
  },
  {
   "cell_type": "code",
   "execution_count": 58,
   "id": "01a510fe",
   "metadata": {},
   "outputs": [
    {
     "data": {
      "text/html": [
       "<div>\n",
       "<style scoped>\n",
       "    .dataframe tbody tr th:only-of-type {\n",
       "        vertical-align: middle;\n",
       "    }\n",
       "\n",
       "    .dataframe tbody tr th {\n",
       "        vertical-align: top;\n",
       "    }\n",
       "\n",
       "    .dataframe thead th {\n",
       "        text-align: right;\n",
       "    }\n",
       "</style>\n",
       "<table border=\"1\" class=\"dataframe\">\n",
       "  <thead>\n",
       "    <tr style=\"text-align: right;\">\n",
       "      <th></th>\n",
       "      <th>Model</th>\n",
       "      <th>learning_rate</th>\n",
       "      <th>max_depth</th>\n",
       "      <th>n_estimators</th>\n",
       "      <th>R^2</th>\n",
       "      <th>RMSE</th>\n",
       "    </tr>\n",
       "  </thead>\n",
       "  <tbody>\n",
       "    <tr>\n",
       "      <th>1</th>\n",
       "      <td>GradientBoostingRegressor</td>\n",
       "      <td>0.05</td>\n",
       "      <td>7</td>\n",
       "      <td>500</td>\n",
       "      <td>0.869</td>\n",
       "      <td>74302.93</td>\n",
       "    </tr>\n",
       "    <tr>\n",
       "      <th>2</th>\n",
       "      <td>LGBM Regressor</td>\n",
       "      <td>0.05</td>\n",
       "      <td>-1</td>\n",
       "      <td>500</td>\n",
       "      <td>0.870</td>\n",
       "      <td>74040.01</td>\n",
       "    </tr>\n",
       "  </tbody>\n",
       "</table>\n",
       "</div>"
      ],
      "text/plain": [
       "                       Model  learning_rate  max_depth  n_estimators    R^2  \\\n",
       "1  GradientBoostingRegressor           0.05          7           500  0.869   \n",
       "2             LGBM Regressor           0.05         -1           500  0.870   \n",
       "\n",
       "       RMSE  \n",
       "1  74302.93  \n",
       "2  74040.01  "
      ]
     },
     "execution_count": 58,
     "metadata": {},
     "output_type": "execute_result"
    }
   ],
   "source": [
    "parameters = {\n",
    "    'Model': [ 'GradientBoostingRegressor',  'LGBM Regressor'],\n",
    "    'learning_rate': [0.05 ,0.05],\n",
    "    'max_depth': [7,-1 ],\n",
    "    'n_estimators':[500, 500],\n",
    "    'R^2':[0.869,0.87],\n",
    "    'RMSE':[74302.93,74040.01]\n",
    "}\n",
    "\n",
    "# Create a DataFrame from the data dictionary\n",
    "table = pd.DataFrame(parameters)\n",
    "\n",
    "# Set the index to start from 1\n",
    "\n",
    "table.index = table.index + 1\n",
    "# Print the DataFrame\n",
    "table"
   ]
  },
  {
   "cell_type": "markdown",
   "id": "a59ce262",
   "metadata": {},
   "source": [
    "so after the grid search and applying the best parameters for both models we can see that the LGBM gave us the best performance"
   ]
  },
  {
   "cell_type": "code",
   "execution_count": 59,
   "id": "9Xy2RlYmKeJY",
   "metadata": {
    "id": "9Xy2RlYmKeJY"
   },
   "outputs": [],
   "source": [
    "# we will use lgbm , after comparing between them\n",
    "import pickle"
   ]
  },
  {
   "cell_type": "code",
   "execution_count": 60,
   "id": "JI6adnNIK6Nc",
   "metadata": {
    "id": "JI6adnNIK6Nc"
   },
   "outputs": [],
   "source": [
    "# save a model to a pikle file\n",
    "pickle.dump(lgbm_model1, open('sk.pkl', 'wb'))"
   ]
  },
  {
   "cell_type": "code",
   "execution_count": null,
   "id": "618e169e",
   "metadata": {},
   "outputs": [],
   "source": []
  }
 ],
 "metadata": {
  "colab": {
   "provenance": []
  },
  "kernelspec": {
   "display_name": "Python 3 (ipykernel)",
   "language": "python",
   "name": "python3"
  },
  "language_info": {
   "codemirror_mode": {
    "name": "ipython",
    "version": 3
   },
   "file_extension": ".py",
   "mimetype": "text/x-python",
   "name": "python",
   "nbconvert_exporter": "python",
   "pygments_lexer": "ipython3",
   "version": "3.11.1"
  }
 },
 "nbformat": 4,
 "nbformat_minor": 5
}
